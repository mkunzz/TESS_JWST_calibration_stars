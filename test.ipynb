{
 "cells": [
  {
   "cell_type": "code",
   "execution_count": 10,
   "id": "02e5d7df",
   "metadata": {},
   "outputs": [],
   "source": [
    "import michael\n",
    "import eleanor\n",
    "import lightkurve as lk\n",
    "import matplotlib.pyplot as plt\n",
    "import numpy as np\n",
    "import scipy.signal as signal\n",
    "from astroquery.mast import Catalogs\n",
    "from astroquery.mast import Tesscut\n",
    "from astropy.coordinates import SkyCoord\n",
    "import csv\n",
    "import random"
   ]
  },
  {
   "cell_type": "code",
   "execution_count": 11,
   "id": "d8233e42",
   "metadata": {},
   "outputs": [],
   "source": [
    "two_minute = [327587572,247923021,149505899,147921014,471015233,383553764,166698220,\n",
    "              41232189,298165335,198456033,181240911,165370459,219752116,27533327,\n",
    "              39464221,441120034,140282069,32869782,365653206,229980646]\n",
    "thirty_minute = [219820925,229945862,440765193,8591766,417544924,144599609,207440438,\n",
    "                 219094190,233095291,219114641,233067231,233075513,219897252,233205654]\n",
    "none = [352817378,135656809,397558558,420814525,54837036,315627636,80313923,75586606]\n",
    "variable_list = [383553764,166698220,41232189,198456033,441120034,32869782,219820925]\n",
    "full_list_of_JWST_standards = two_minute+thirty_minute+none"
   ]
  },
  {
   "cell_type": "code",
   "execution_count": 5,
   "id": "3d39b961",
   "metadata": {},
   "outputs": [
    {
     "name": "stdout",
     "output_type": "stream",
     "text": [
      "1.903554081916814\n"
     ]
    }
   ],
   "source": [
    "tic_number = 327587572\n",
    "sector_number = 19\n",
    "a = michael.flux_variation(tic_number, sector_number)\n",
    "print(a)"
   ]
  },
  {
   "cell_type": "code",
   "execution_count": 12,
   "id": "a17db6e3",
   "metadata": {},
   "outputs": [
    {
     "name": "stderr",
     "output_type": "stream",
     "text": [
      "Warning: 30% (5871/19412) of the cadences will be ignored due to the quality mask (quality_bitmask=175).\n",
      "Warning: 30% (5871/19412) of the cadences will be ignored due to the quality mask (quality_bitmask=175).\n",
      "Warning: 30% (5871/19412) of the cadences will be ignored due to the quality mask (quality_bitmask=175).\n",
      "Warning: 30% (5871/19412) of the cadences will be ignored due to the quality mask (quality_bitmask=175).\n"
     ]
    },
    {
     "name": "stdout",
     "output_type": "stream",
     "text": [
      "Found star in Sector(s) 14 15 16 17 18 20 21 22 23 24 25 26\n"
     ]
    },
    {
     "name": "stderr",
     "output_type": "stream",
     "text": [
      "WARNING: NoResultsWarning: Query returned no results. [astroquery.mast.core]\n"
     ]
    },
    {
     "name": "stdout",
     "output_type": "stream",
     "text": [
      "No eleanor postcard has been made for your target (yet). Using TessCut instead.\n",
      "No eleanor postcard has been made for your target (yet). Using TessCut instead.\n",
      "No eleanor postcard has been made for your target (yet). Using TessCut instead.\n",
      "No eleanor postcard has been made for your target (yet). Using TessCut instead.\n",
      "No eleanor postcard has been made for your target (yet). Using TessCut instead.\n",
      "No eleanor postcard has been made for your target (yet). Using TessCut instead.\n",
      "No eleanor postcard has been made for your target (yet). Using TessCut instead.\n",
      "No eleanor postcard has been made for your target (yet). Using TessCut instead.\n",
      "No eleanor postcard has been made for your target (yet). Using TessCut instead.\n",
      "No eleanor postcard has been made for your target (yet). Using TessCut instead.\n",
      "No eleanor postcard has been made for your target (yet). Using TessCut instead.\n",
      "No eleanor postcard has been made for your target (yet). Using TessCut instead.\n",
      "No eleanor postcard has been made for your target (yet). Using TessCut instead.\n"
     ]
    },
    {
     "name": "stderr",
     "output_type": "stream",
     "text": [
      "WARNING: NoResultsWarning: Query returned no results. [astroquery.mast.core]\n"
     ]
    },
    {
     "name": "stdout",
     "output_type": "stream",
     "text": [
      "No eleanor postcard has been made for your target (yet). Using TessCut instead.\n"
     ]
    },
    {
     "name": "stderr",
     "output_type": "stream",
     "text": [
      "WARNING: NoResultsWarning: Query returned no results. [astroquery.mast.core]\n"
     ]
    },
    {
     "name": "stdout",
     "output_type": "stream",
     "text": [
      "No eleanor postcard has been made for your target (yet). Using TessCut instead.\n"
     ]
    },
    {
     "name": "stderr",
     "output_type": "stream",
     "text": [
      "WARNING: NoResultsWarning: Query returned no results. [astroquery.mast.core]\n"
     ]
    },
    {
     "name": "stdout",
     "output_type": "stream",
     "text": [
      "No eleanor postcard has been made for your target (yet). Using TessCut instead.\n"
     ]
    },
    {
     "name": "stderr",
     "output_type": "stream",
     "text": [
      "WARNING: NoResultsWarning: Query returned no results. [astroquery.mast.core]\n"
     ]
    },
    {
     "name": "stdout",
     "output_type": "stream",
     "text": [
      "No eleanor postcard has been made for your target (yet). Using TessCut instead.\n"
     ]
    },
    {
     "name": "stderr",
     "output_type": "stream",
     "text": [
      "WARNING: NoResultsWarning: Query returned no results. [astroquery.mast.core]\n"
     ]
    },
    {
     "name": "stdout",
     "output_type": "stream",
     "text": [
      "No eleanor postcard has been made for your target (yet). Using TessCut instead.\n"
     ]
    },
    {
     "name": "stderr",
     "output_type": "stream",
     "text": [
      "WARNING: NoResultsWarning: Query returned no results. [astroquery.mast.core]\n"
     ]
    },
    {
     "name": "stdout",
     "output_type": "stream",
     "text": [
      "No eleanor postcard has been made for your target (yet). Using TessCut instead.\n"
     ]
    },
    {
     "name": "stderr",
     "output_type": "stream",
     "text": [
      "WARNING: NoResultsWarning: Query returned no results. [astroquery.mast.core]\n"
     ]
    },
    {
     "name": "stdout",
     "output_type": "stream",
     "text": [
      "No eleanor postcard has been made for your target (yet). Using TessCut instead.\n"
     ]
    },
    {
     "name": "stderr",
     "output_type": "stream",
     "text": [
      "WARNING: NoResultsWarning: Query returned no results. [astroquery.mast.core]\n"
     ]
    },
    {
     "name": "stdout",
     "output_type": "stream",
     "text": [
      "No eleanor postcard has been made for your target (yet). Using TessCut instead.\n"
     ]
    },
    {
     "name": "stderr",
     "output_type": "stream",
     "text": [
      "WARNING: NoResultsWarning: Query returned no results. [astroquery.mast.core]\n"
     ]
    },
    {
     "name": "stdout",
     "output_type": "stream",
     "text": [
      "No eleanor postcard has been made for your target (yet). Using TessCut instead.\n"
     ]
    },
    {
     "name": "stderr",
     "output_type": "stream",
     "text": [
      "WARNING: NoResultsWarning: Query returned no results. [astroquery.mast.core]\n"
     ]
    },
    {
     "name": "stdout",
     "output_type": "stream",
     "text": [
      "No eleanor postcard has been made for your target (yet). Using TessCut instead.\n"
     ]
    },
    {
     "name": "stderr",
     "output_type": "stream",
     "text": [
      "WARNING: NoResultsWarning: Query returned no results. [astroquery.mast.core]\n"
     ]
    },
    {
     "name": "stdout",
     "output_type": "stream",
     "text": [
      "No eleanor postcard has been made for your target (yet). Using TessCut instead.\n",
      "Found star in Sector(s) 14 15 16 17 18 19 20 21 22 23 24 25 26\n"
     ]
    },
    {
     "name": "stderr",
     "output_type": "stream",
     "text": [
      "WARNING: NoResultsWarning: Query returned no results. [astroquery.mast.core]\n"
     ]
    },
    {
     "name": "stdout",
     "output_type": "stream",
     "text": [
      "No eleanor postcard has been made for your target (yet). Using TessCut instead.\n",
      "No eleanor postcard has been made for your target (yet). Using TessCut instead.\n",
      "No eleanor postcard has been made for your target (yet). Using TessCut instead.\n",
      "No eleanor postcard has been made for your target (yet). Using TessCut instead.\n",
      "No eleanor postcard has been made for your target (yet). Using TessCut instead.\n",
      "No eleanor postcard has been made for your target (yet). Using TessCut instead.\n",
      "No eleanor postcard has been made for your target (yet). Using TessCut instead.\n",
      "No eleanor postcard has been made for your target (yet). Using TessCut instead.\n",
      "No eleanor postcard has been made for your target (yet). Using TessCut instead.\n",
      "No eleanor postcard has been made for your target (yet). Using TessCut instead.\n",
      "No eleanor postcard has been made for your target (yet). Using TessCut instead.\n",
      "No eleanor postcard has been made for your target (yet). Using TessCut instead.\n",
      "No eleanor postcard has been made for your target (yet). Using TessCut instead.\n",
      "No eleanor postcard has been made for your target (yet). Using TessCut instead.\n"
     ]
    },
    {
     "name": "stderr",
     "output_type": "stream",
     "text": [
      "WARNING: NoResultsWarning: Query returned no results. [astroquery.mast.core]\n"
     ]
    },
    {
     "name": "stdout",
     "output_type": "stream",
     "text": [
      "No eleanor postcard has been made for your target (yet). Using TessCut instead.\n"
     ]
    },
    {
     "name": "stderr",
     "output_type": "stream",
     "text": [
      "WARNING: NoResultsWarning: Query returned no results. [astroquery.mast.core]\n"
     ]
    },
    {
     "name": "stdout",
     "output_type": "stream",
     "text": [
      "No eleanor postcard has been made for your target (yet). Using TessCut instead.\n"
     ]
    },
    {
     "name": "stderr",
     "output_type": "stream",
     "text": [
      "WARNING: NoResultsWarning: Query returned no results. [astroquery.mast.core]\n"
     ]
    },
    {
     "name": "stdout",
     "output_type": "stream",
     "text": [
      "No eleanor postcard has been made for your target (yet). Using TessCut instead.\n"
     ]
    },
    {
     "name": "stderr",
     "output_type": "stream",
     "text": [
      "WARNING: NoResultsWarning: Query returned no results. [astroquery.mast.core]\n"
     ]
    },
    {
     "name": "stdout",
     "output_type": "stream",
     "text": [
      "No eleanor postcard has been made for your target (yet). Using TessCut instead.\n"
     ]
    },
    {
     "name": "stderr",
     "output_type": "stream",
     "text": [
      "WARNING: NoResultsWarning: Query returned no results. [astroquery.mast.core]\n"
     ]
    },
    {
     "name": "stdout",
     "output_type": "stream",
     "text": [
      "No eleanor postcard has been made for your target (yet). Using TessCut instead.\n"
     ]
    },
    {
     "name": "stderr",
     "output_type": "stream",
     "text": [
      "WARNING: NoResultsWarning: Query returned no results. [astroquery.mast.core]\n"
     ]
    },
    {
     "name": "stdout",
     "output_type": "stream",
     "text": [
      "No eleanor postcard has been made for your target (yet). Using TessCut instead.\n"
     ]
    },
    {
     "name": "stderr",
     "output_type": "stream",
     "text": [
      "WARNING: NoResultsWarning: Query returned no results. [astroquery.mast.core]\n"
     ]
    },
    {
     "name": "stdout",
     "output_type": "stream",
     "text": [
      "No eleanor postcard has been made for your target (yet). Using TessCut instead.\n"
     ]
    },
    {
     "name": "stderr",
     "output_type": "stream",
     "text": [
      "WARNING: NoResultsWarning: Query returned no results. [astroquery.mast.core]\n"
     ]
    },
    {
     "name": "stdout",
     "output_type": "stream",
     "text": [
      "No eleanor postcard has been made for your target (yet). Using TessCut instead.\n"
     ]
    },
    {
     "name": "stderr",
     "output_type": "stream",
     "text": [
      "WARNING: NoResultsWarning: Query returned no results. [astroquery.mast.core]\n"
     ]
    },
    {
     "name": "stdout",
     "output_type": "stream",
     "text": [
      "No eleanor postcard has been made for your target (yet). Using TessCut instead.\n"
     ]
    },
    {
     "name": "stderr",
     "output_type": "stream",
     "text": [
      "WARNING: NoResultsWarning: Query returned no results. [astroquery.mast.core]\n"
     ]
    },
    {
     "name": "stdout",
     "output_type": "stream",
     "text": [
      "No eleanor postcard has been made for your target (yet). Using TessCut instead.\n"
     ]
    },
    {
     "name": "stderr",
     "output_type": "stream",
     "text": [
      "WARNING: NoResultsWarning: Query returned no results. [astroquery.mast.core]\n"
     ]
    },
    {
     "name": "stdout",
     "output_type": "stream",
     "text": [
      "No eleanor postcard has been made for your target (yet). Using TessCut instead.\n"
     ]
    },
    {
     "name": "stderr",
     "output_type": "stream",
     "text": [
      "WARNING: NoResultsWarning: Query returned no results. [astroquery.mast.core]\n"
     ]
    },
    {
     "name": "stdout",
     "output_type": "stream",
     "text": [
      "No eleanor postcard has been made for your target (yet). Using TessCut instead.\n",
      "Found star in Sector(s) 7 33\n"
     ]
    },
    {
     "name": "stderr",
     "output_type": "stream",
     "text": [
      "/Users/mkunz/miniconda3/envs/environment2/lib/python3.7/site-packages/eleanor-2.0.3-py3.7.egg/eleanor/ffi.py:40: UserWarning: couldn't find pointing model\n",
      "  warnings.warn(\"couldn't find pointing model\")\n",
      "WARNING: NoResultsWarning: Query returned no results. [astroquery.mast.core]\n"
     ]
    },
    {
     "name": "stdout",
     "output_type": "stream",
     "text": [
      "No eleanor postcard has been made for your target (yet). Using TessCut instead.\n",
      "No eleanor postcard has been made for your target (yet). Using TessCut instead.\n"
     ]
    },
    {
     "name": "stderr",
     "output_type": "stream",
     "text": [
      "WARNING: NoResultsWarning: Query returned no results. [astroquery.mast.core]\n"
     ]
    },
    {
     "name": "stdout",
     "output_type": "stream",
     "text": [
      "No eleanor postcard has been made for your target (yet). Using TessCut instead.\n",
      "Found star in Sector(s) 24 25\n"
     ]
    },
    {
     "name": "stderr",
     "output_type": "stream",
     "text": [
      "WARNING: NoResultsWarning: Query returned no results. [astroquery.mast.core]\n"
     ]
    },
    {
     "name": "stdout",
     "output_type": "stream",
     "text": [
      "No eleanor postcard has been made for your target (yet). Using TessCut instead.\n",
      "No eleanor postcard has been made for your target (yet). Using TessCut instead.\n",
      "No eleanor postcard has been made for your target (yet). Using TessCut instead.\n"
     ]
    },
    {
     "name": "stderr",
     "output_type": "stream",
     "text": [
      "WARNING: NoResultsWarning: Query returned no results. [astroquery.mast.core]\n"
     ]
    },
    {
     "name": "stdout",
     "output_type": "stream",
     "text": [
      "No eleanor postcard has been made for your target (yet). Using TessCut instead.\n",
      "Found star in Sector(s) 23 24\n"
     ]
    },
    {
     "name": "stderr",
     "output_type": "stream",
     "text": [
      "WARNING: NoResultsWarning: Query returned no results. [astroquery.mast.core]\n"
     ]
    },
    {
     "name": "stdout",
     "output_type": "stream",
     "text": [
      "No eleanor postcard has been made for your target (yet). Using TessCut instead.\n",
      "No eleanor postcard has been made for your target (yet). Using TessCut instead.\n",
      "No eleanor postcard has been made for your target (yet). Using TessCut instead.\n"
     ]
    },
    {
     "name": "stderr",
     "output_type": "stream",
     "text": [
      "WARNING: NoResultsWarning: Query returned no results. [astroquery.mast.core]\n"
     ]
    },
    {
     "name": "stdout",
     "output_type": "stream",
     "text": [
      "No eleanor postcard has been made for your target (yet). Using TessCut instead.\n",
      "Found star in Sector(s) 4 31\n"
     ]
    },
    {
     "name": "stderr",
     "output_type": "stream",
     "text": [
      "/Users/mkunz/miniconda3/envs/environment2/lib/python3.7/site-packages/eleanor-2.0.3-py3.7.egg/eleanor/ffi.py:40: UserWarning: couldn't find pointing model\n",
      "  warnings.warn(\"couldn't find pointing model\")\n",
      "WARNING: NoResultsWarning: Query returned no results. [astroquery.mast.core]\n"
     ]
    },
    {
     "name": "stdout",
     "output_type": "stream",
     "text": [
      "No eleanor postcard has been made for your target (yet). Using TessCut instead.\n",
      "No eleanor postcard has been made for your target (yet). Using TessCut instead.\n"
     ]
    },
    {
     "name": "stderr",
     "output_type": "stream",
     "text": [
      "WARNING: NoResultsWarning: Query returned no results. [astroquery.mast.core]\n"
     ]
    },
    {
     "name": "stdout",
     "output_type": "stream",
     "text": [
      "No eleanor postcard has been made for your target (yet). Using TessCut instead.\n",
      "Found star in Sector(s) 16 22 23 24 25\n"
     ]
    },
    {
     "name": "stderr",
     "output_type": "stream",
     "text": [
      "WARNING: NoResultsWarning: Query returned no results. [astroquery.mast.core]\n"
     ]
    },
    {
     "name": "stdout",
     "output_type": "stream",
     "text": [
      "No eleanor postcard has been made for your target (yet). Using TessCut instead.\n",
      "No eleanor postcard has been made for your target (yet). Using TessCut instead.\n",
      "No eleanor postcard has been made for your target (yet). Using TessCut instead.\n",
      "No eleanor postcard has been made for your target (yet). Using TessCut instead.\n",
      "No eleanor postcard has been made for your target (yet). Using TessCut instead.\n",
      "No eleanor postcard has been made for your target (yet). Using TessCut instead.\n"
     ]
    },
    {
     "name": "stderr",
     "output_type": "stream",
     "text": [
      "WARNING: NoResultsWarning: Query returned no results. [astroquery.mast.core]\n"
     ]
    },
    {
     "name": "stdout",
     "output_type": "stream",
     "text": [
      "No eleanor postcard has been made for your target (yet). Using TessCut instead.\n"
     ]
    },
    {
     "name": "stderr",
     "output_type": "stream",
     "text": [
      "/Users/mkunz/miniconda3/envs/environment2/lib/python3.7/site-packages/lightkurve/lightcurve.py:1047: LightkurveWarning: The light curve has a negative median flux (-1.18e+02); `normalize()` will therefore divide by a negative number and invert the light curve, which is probablynot what you want\n",
      "  LightkurveWarning,\n",
      "WARNING: NoResultsWarning: Query returned no results. [astroquery.mast.core]\n"
     ]
    },
    {
     "name": "stdout",
     "output_type": "stream",
     "text": [
      "No eleanor postcard has been made for your target (yet). Using TessCut instead.\n"
     ]
    },
    {
     "name": "stderr",
     "output_type": "stream",
     "text": [
      "WARNING: NoResultsWarning: Query returned no results. [astroquery.mast.core]\n"
     ]
    },
    {
     "name": "stdout",
     "output_type": "stream",
     "text": [
      "No eleanor postcard has been made for your target (yet). Using TessCut instead.\n"
     ]
    },
    {
     "name": "stderr",
     "output_type": "stream",
     "text": [
      "WARNING: NoResultsWarning: Query returned no results. [astroquery.mast.core]\n"
     ]
    },
    {
     "name": "stdout",
     "output_type": "stream",
     "text": [
      "No eleanor postcard has been made for your target (yet). Using TessCut instead.\n",
      "Found star in Sector(s) 15 16 19 22 24 25\n"
     ]
    },
    {
     "name": "stderr",
     "output_type": "stream",
     "text": [
      "WARNING: NoResultsWarning: Query returned no results. [astroquery.mast.core]\n"
     ]
    },
    {
     "name": "stdout",
     "output_type": "stream",
     "text": [
      "No eleanor postcard has been made for your target (yet). Using TessCut instead.\n",
      "No eleanor postcard has been made for your target (yet). Using TessCut instead.\n",
      "No eleanor postcard has been made for your target (yet). Using TessCut instead.\n",
      "No eleanor postcard has been made for your target (yet). Using TessCut instead.\n",
      "No eleanor postcard has been made for your target (yet). Using TessCut instead.\n",
      "No eleanor postcard has been made for your target (yet). Using TessCut instead.\n",
      "No eleanor postcard has been made for your target (yet). Using TessCut instead.\n"
     ]
    },
    {
     "name": "stderr",
     "output_type": "stream",
     "text": [
      "WARNING: NoResultsWarning: Query returned no results. [astroquery.mast.core]\n"
     ]
    },
    {
     "name": "stdout",
     "output_type": "stream",
     "text": [
      "No eleanor postcard has been made for your target (yet). Using TessCut instead.\n"
     ]
    },
    {
     "name": "stderr",
     "output_type": "stream",
     "text": [
      "WARNING: NoResultsWarning: Query returned no results. [astroquery.mast.core]\n"
     ]
    },
    {
     "name": "stdout",
     "output_type": "stream",
     "text": [
      "No eleanor postcard has been made for your target (yet). Using TessCut instead.\n"
     ]
    },
    {
     "name": "stderr",
     "output_type": "stream",
     "text": [
      "WARNING: NoResultsWarning: Query returned no results. [astroquery.mast.core]\n"
     ]
    },
    {
     "name": "stdout",
     "output_type": "stream",
     "text": [
      "No eleanor postcard has been made for your target (yet). Using TessCut instead.\n"
     ]
    },
    {
     "name": "stderr",
     "output_type": "stream",
     "text": [
      "WARNING: NoResultsWarning: Query returned no results. [astroquery.mast.core]\n"
     ]
    },
    {
     "name": "stdout",
     "output_type": "stream",
     "text": [
      "No eleanor postcard has been made for your target (yet). Using TessCut instead.\n"
     ]
    },
    {
     "name": "stderr",
     "output_type": "stream",
     "text": [
      "WARNING: NoResultsWarning: Query returned no results. [astroquery.mast.core]\n"
     ]
    },
    {
     "name": "stdout",
     "output_type": "stream",
     "text": [
      "No eleanor postcard has been made for your target (yet). Using TessCut instead.\n",
      "Found star in Sector(s) 14 15 16 18 19 20 21 22 23 24 25 26\n"
     ]
    },
    {
     "name": "stderr",
     "output_type": "stream",
     "text": [
      "WARNING: NoResultsWarning: Query returned no results. [astroquery.mast.core]\n"
     ]
    },
    {
     "name": "stdout",
     "output_type": "stream",
     "text": [
      "No eleanor postcard has been made for your target (yet). Using TessCut instead.\n",
      "No eleanor postcard has been made for your target (yet). Using TessCut instead.\n",
      "No eleanor postcard has been made for your target (yet). Using TessCut instead.\n",
      "No eleanor postcard has been made for your target (yet). Using TessCut instead.\n",
      "No eleanor postcard has been made for your target (yet). Using TessCut instead.\n",
      "No eleanor postcard has been made for your target (yet). Using TessCut instead.\n",
      "No eleanor postcard has been made for your target (yet). Using TessCut instead.\n",
      "No eleanor postcard has been made for your target (yet). Using TessCut instead.\n",
      "No eleanor postcard has been made for your target (yet). Using TessCut instead.\n",
      "No eleanor postcard has been made for your target (yet). Using TessCut instead.\n",
      "No eleanor postcard has been made for your target (yet). Using TessCut instead.\n",
      "No eleanor postcard has been made for your target (yet). Using TessCut instead.\n",
      "No eleanor postcard has been made for your target (yet). Using TessCut instead.\n"
     ]
    },
    {
     "name": "stderr",
     "output_type": "stream",
     "text": [
      "WARNING: NoResultsWarning: Query returned no results. [astroquery.mast.core]\n"
     ]
    },
    {
     "name": "stdout",
     "output_type": "stream",
     "text": [
      "No eleanor postcard has been made for your target (yet). Using TessCut instead.\n"
     ]
    },
    {
     "name": "stderr",
     "output_type": "stream",
     "text": [
      "WARNING: NoResultsWarning: Query returned no results. [astroquery.mast.core]\n"
     ]
    },
    {
     "name": "stdout",
     "output_type": "stream",
     "text": [
      "No eleanor postcard has been made for your target (yet). Using TessCut instead.\n"
     ]
    },
    {
     "name": "stderr",
     "output_type": "stream",
     "text": [
      "WARNING: NoResultsWarning: Query returned no results. [astroquery.mast.core]\n"
     ]
    },
    {
     "name": "stdout",
     "output_type": "stream",
     "text": [
      "No eleanor postcard has been made for your target (yet). Using TessCut instead.\n"
     ]
    },
    {
     "name": "stderr",
     "output_type": "stream",
     "text": [
      "WARNING: NoResultsWarning: Query returned no results. [astroquery.mast.core]\n"
     ]
    },
    {
     "name": "stdout",
     "output_type": "stream",
     "text": [
      "No eleanor postcard has been made for your target (yet). Using TessCut instead.\n"
     ]
    },
    {
     "name": "stderr",
     "output_type": "stream",
     "text": [
      "WARNING: NoResultsWarning: Query returned no results. [astroquery.mast.core]\n"
     ]
    },
    {
     "name": "stdout",
     "output_type": "stream",
     "text": [
      "No eleanor postcard has been made for your target (yet). Using TessCut instead.\n"
     ]
    },
    {
     "name": "stderr",
     "output_type": "stream",
     "text": [
      "WARNING: NoResultsWarning: Query returned no results. [astroquery.mast.core]\n"
     ]
    },
    {
     "name": "stdout",
     "output_type": "stream",
     "text": [
      "No eleanor postcard has been made for your target (yet). Using TessCut instead.\n"
     ]
    },
    {
     "name": "stderr",
     "output_type": "stream",
     "text": [
      "WARNING: NoResultsWarning: Query returned no results. [astroquery.mast.core]\n"
     ]
    },
    {
     "name": "stdout",
     "output_type": "stream",
     "text": [
      "No eleanor postcard has been made for your target (yet). Using TessCut instead.\n"
     ]
    },
    {
     "name": "stderr",
     "output_type": "stream",
     "text": [
      "WARNING: NoResultsWarning: Query returned no results. [astroquery.mast.core]\n"
     ]
    },
    {
     "name": "stdout",
     "output_type": "stream",
     "text": [
      "No eleanor postcard has been made for your target (yet). Using TessCut instead.\n"
     ]
    },
    {
     "name": "stderr",
     "output_type": "stream",
     "text": [
      "WARNING: NoResultsWarning: Query returned no results. [astroquery.mast.core]\n"
     ]
    },
    {
     "name": "stdout",
     "output_type": "stream",
     "text": [
      "No eleanor postcard has been made for your target (yet). Using TessCut instead.\n"
     ]
    },
    {
     "name": "stderr",
     "output_type": "stream",
     "text": [
      "WARNING: NoResultsWarning: Query returned no results. [astroquery.mast.core]\n"
     ]
    },
    {
     "name": "stdout",
     "output_type": "stream",
     "text": [
      "No eleanor postcard has been made for your target (yet). Using TessCut instead.\n"
     ]
    },
    {
     "name": "stderr",
     "output_type": "stream",
     "text": [
      "WARNING: NoResultsWarning: Query returned no results. [astroquery.mast.core]\n"
     ]
    },
    {
     "name": "stdout",
     "output_type": "stream",
     "text": [
      "No eleanor postcard has been made for your target (yet). Using TessCut instead.\n",
      "Found star in Sector(s) 14 15 16 17 18 20 21 23 24 25 26\n"
     ]
    },
    {
     "name": "stderr",
     "output_type": "stream",
     "text": [
      "WARNING: NoResultsWarning: Query returned no results. [astroquery.mast.core]\n"
     ]
    },
    {
     "name": "stdout",
     "output_type": "stream",
     "text": [
      "No eleanor postcard has been made for your target (yet). Using TessCut instead.\n",
      "No eleanor postcard has been made for your target (yet). Using TessCut instead.\n",
      "No eleanor postcard has been made for your target (yet). Using TessCut instead.\n",
      "No eleanor postcard has been made for your target (yet). Using TessCut instead.\n",
      "No eleanor postcard has been made for your target (yet). Using TessCut instead.\n",
      "No eleanor postcard has been made for your target (yet). Using TessCut instead.\n",
      "No eleanor postcard has been made for your target (yet). Using TessCut instead.\n",
      "No eleanor postcard has been made for your target (yet). Using TessCut instead.\n",
      "No eleanor postcard has been made for your target (yet). Using TessCut instead.\n",
      "No eleanor postcard has been made for your target (yet). Using TessCut instead.\n",
      "No eleanor postcard has been made for your target (yet). Using TessCut instead.\n",
      "No eleanor postcard has been made for your target (yet). Using TessCut instead.\n"
     ]
    },
    {
     "name": "stderr",
     "output_type": "stream",
     "text": [
      "WARNING: NoResultsWarning: Query returned no results. [astroquery.mast.core]\n"
     ]
    },
    {
     "name": "stdout",
     "output_type": "stream",
     "text": [
      "No eleanor postcard has been made for your target (yet). Using TessCut instead.\n"
     ]
    },
    {
     "name": "stderr",
     "output_type": "stream",
     "text": [
      "WARNING: NoResultsWarning: Query returned no results. [astroquery.mast.core]\n"
     ]
    },
    {
     "name": "stdout",
     "output_type": "stream",
     "text": [
      "No eleanor postcard has been made for your target (yet). Using TessCut instead.\n"
     ]
    },
    {
     "name": "stderr",
     "output_type": "stream",
     "text": [
      "WARNING: NoResultsWarning: Query returned no results. [astroquery.mast.core]\n"
     ]
    },
    {
     "name": "stdout",
     "output_type": "stream",
     "text": [
      "No eleanor postcard has been made for your target (yet). Using TessCut instead.\n"
     ]
    },
    {
     "name": "stderr",
     "output_type": "stream",
     "text": [
      "WARNING: NoResultsWarning: Query returned no results. [astroquery.mast.core]\n"
     ]
    },
    {
     "name": "stdout",
     "output_type": "stream",
     "text": [
      "No eleanor postcard has been made for your target (yet). Using TessCut instead.\n"
     ]
    },
    {
     "name": "stderr",
     "output_type": "stream",
     "text": [
      "WARNING: NoResultsWarning: Query returned no results. [astroquery.mast.core]\n"
     ]
    },
    {
     "name": "stdout",
     "output_type": "stream",
     "text": [
      "No eleanor postcard has been made for your target (yet). Using TessCut instead.\n"
     ]
    },
    {
     "name": "stderr",
     "output_type": "stream",
     "text": [
      "WARNING: NoResultsWarning: Query returned no results. [astroquery.mast.core]\n"
     ]
    },
    {
     "name": "stdout",
     "output_type": "stream",
     "text": [
      "No eleanor postcard has been made for your target (yet). Using TessCut instead.\n"
     ]
    },
    {
     "name": "stderr",
     "output_type": "stream",
     "text": [
      "WARNING: NoResultsWarning: Query returned no results. [astroquery.mast.core]\n"
     ]
    },
    {
     "name": "stdout",
     "output_type": "stream",
     "text": [
      "No eleanor postcard has been made for your target (yet). Using TessCut instead.\n"
     ]
    },
    {
     "name": "stderr",
     "output_type": "stream",
     "text": [
      "WARNING: NoResultsWarning: Query returned no results. [astroquery.mast.core]\n"
     ]
    },
    {
     "name": "stdout",
     "output_type": "stream",
     "text": [
      "No eleanor postcard has been made for your target (yet). Using TessCut instead.\n"
     ]
    },
    {
     "name": "stderr",
     "output_type": "stream",
     "text": [
      "WARNING: NoResultsWarning: Query returned no results. [astroquery.mast.core]\n"
     ]
    },
    {
     "name": "stdout",
     "output_type": "stream",
     "text": [
      "No eleanor postcard has been made for your target (yet). Using TessCut instead.\n"
     ]
    },
    {
     "name": "stderr",
     "output_type": "stream",
     "text": [
      "WARNING: NoResultsWarning: Query returned no results. [astroquery.mast.core]\n"
     ]
    },
    {
     "name": "stdout",
     "output_type": "stream",
     "text": [
      "No eleanor postcard has been made for your target (yet). Using TessCut instead.\n",
      "Found star in Sector(s) 14 15 16 17 18 19 20 21 22 23 24 25\n"
     ]
    },
    {
     "name": "stderr",
     "output_type": "stream",
     "text": [
      "WARNING: NoResultsWarning: Query returned no results. [astroquery.mast.core]\n"
     ]
    },
    {
     "name": "stdout",
     "output_type": "stream",
     "text": [
      "No eleanor postcard has been made for your target (yet). Using TessCut instead.\n",
      "No eleanor postcard has been made for your target (yet). Using TessCut instead.\n",
      "No eleanor postcard has been made for your target (yet). Using TessCut instead.\n",
      "No eleanor postcard has been made for your target (yet). Using TessCut instead.\n",
      "No eleanor postcard has been made for your target (yet). Using TessCut instead.\n",
      "No eleanor postcard has been made for your target (yet). Using TessCut instead.\n",
      "No eleanor postcard has been made for your target (yet). Using TessCut instead.\n",
      "No eleanor postcard has been made for your target (yet). Using TessCut instead.\n",
      "No eleanor postcard has been made for your target (yet). Using TessCut instead.\n",
      "No eleanor postcard has been made for your target (yet). Using TessCut instead.\n",
      "No eleanor postcard has been made for your target (yet). Using TessCut instead.\n",
      "No eleanor postcard has been made for your target (yet). Using TessCut instead.\n",
      "No eleanor postcard has been made for your target (yet). Using TessCut instead.\n"
     ]
    },
    {
     "name": "stderr",
     "output_type": "stream",
     "text": [
      "WARNING: NoResultsWarning: Query returned no results. [astroquery.mast.core]\n"
     ]
    },
    {
     "name": "stdout",
     "output_type": "stream",
     "text": [
      "No eleanor postcard has been made for your target (yet). Using TessCut instead.\n"
     ]
    },
    {
     "name": "stderr",
     "output_type": "stream",
     "text": [
      "WARNING: NoResultsWarning: Query returned no results. [astroquery.mast.core]\n"
     ]
    },
    {
     "name": "stdout",
     "output_type": "stream",
     "text": [
      "No eleanor postcard has been made for your target (yet). Using TessCut instead.\n"
     ]
    },
    {
     "name": "stderr",
     "output_type": "stream",
     "text": [
      "WARNING: NoResultsWarning: Query returned no results. [astroquery.mast.core]\n"
     ]
    },
    {
     "name": "stdout",
     "output_type": "stream",
     "text": [
      "No eleanor postcard has been made for your target (yet). Using TessCut instead.\n"
     ]
    },
    {
     "name": "stderr",
     "output_type": "stream",
     "text": [
      "WARNING: NoResultsWarning: Query returned no results. [astroquery.mast.core]\n"
     ]
    },
    {
     "name": "stdout",
     "output_type": "stream",
     "text": [
      "No eleanor postcard has been made for your target (yet). Using TessCut instead.\n"
     ]
    },
    {
     "name": "stderr",
     "output_type": "stream",
     "text": [
      "WARNING: NoResultsWarning: Query returned no results. [astroquery.mast.core]\n"
     ]
    },
    {
     "name": "stdout",
     "output_type": "stream",
     "text": [
      "No eleanor postcard has been made for your target (yet). Using TessCut instead.\n"
     ]
    },
    {
     "name": "stderr",
     "output_type": "stream",
     "text": [
      "WARNING: NoResultsWarning: Query returned no results. [astroquery.mast.core]\n"
     ]
    },
    {
     "name": "stdout",
     "output_type": "stream",
     "text": [
      "No eleanor postcard has been made for your target (yet). Using TessCut instead.\n"
     ]
    },
    {
     "name": "stderr",
     "output_type": "stream",
     "text": [
      "WARNING: NoResultsWarning: Query returned no results. [astroquery.mast.core]\n"
     ]
    },
    {
     "name": "stdout",
     "output_type": "stream",
     "text": [
      "No eleanor postcard has been made for your target (yet). Using TessCut instead.\n"
     ]
    },
    {
     "name": "stderr",
     "output_type": "stream",
     "text": [
      "WARNING: NoResultsWarning: Query returned no results. [astroquery.mast.core]\n"
     ]
    },
    {
     "name": "stdout",
     "output_type": "stream",
     "text": [
      "No eleanor postcard has been made for your target (yet). Using TessCut instead.\n"
     ]
    },
    {
     "name": "stderr",
     "output_type": "stream",
     "text": [
      "WARNING: NoResultsWarning: Query returned no results. [astroquery.mast.core]\n"
     ]
    },
    {
     "name": "stdout",
     "output_type": "stream",
     "text": [
      "No eleanor postcard has been made for your target (yet). Using TessCut instead.\n"
     ]
    },
    {
     "name": "stderr",
     "output_type": "stream",
     "text": [
      "WARNING: NoResultsWarning: Query returned no results. [astroquery.mast.core]\n"
     ]
    },
    {
     "name": "stdout",
     "output_type": "stream",
     "text": [
      "No eleanor postcard has been made for your target (yet). Using TessCut instead.\n"
     ]
    },
    {
     "name": "stderr",
     "output_type": "stream",
     "text": [
      "WARNING: NoResultsWarning: Query returned no results. [astroquery.mast.core]\n"
     ]
    },
    {
     "name": "stdout",
     "output_type": "stream",
     "text": [
      "No eleanor postcard has been made for your target (yet). Using TessCut instead.\n",
      "Found star in Sector(s) 14 15 16 17 18 19 21 22 24 25 26\n"
     ]
    },
    {
     "name": "stderr",
     "output_type": "stream",
     "text": [
      "WARNING: NoResultsWarning: Query returned no results. [astroquery.mast.core]\n"
     ]
    },
    {
     "name": "stdout",
     "output_type": "stream",
     "text": [
      "No eleanor postcard has been made for your target (yet). Using TessCut instead.\n",
      "No eleanor postcard has been made for your target (yet). Using TessCut instead.\n",
      "No eleanor postcard has been made for your target (yet). Using TessCut instead.\n",
      "No eleanor postcard has been made for your target (yet). Using TessCut instead.\n",
      "No eleanor postcard has been made for your target (yet). Using TessCut instead.\n",
      "No eleanor postcard has been made for your target (yet). Using TessCut instead.\n",
      "No eleanor postcard has been made for your target (yet). Using TessCut instead.\n",
      "No eleanor postcard has been made for your target (yet). Using TessCut instead.\n",
      "No eleanor postcard has been made for your target (yet). Using TessCut instead.\n",
      "No eleanor postcard has been made for your target (yet). Using TessCut instead.\n",
      "No eleanor postcard has been made for your target (yet). Using TessCut instead.\n",
      "No eleanor postcard has been made for your target (yet). Using TessCut instead.\n"
     ]
    },
    {
     "name": "stderr",
     "output_type": "stream",
     "text": [
      "WARNING: NoResultsWarning: Query returned no results. [astroquery.mast.core]\n"
     ]
    },
    {
     "name": "stdout",
     "output_type": "stream",
     "text": [
      "No eleanor postcard has been made for your target (yet). Using TessCut instead.\n"
     ]
    },
    {
     "name": "stderr",
     "output_type": "stream",
     "text": [
      "WARNING: NoResultsWarning: Query returned no results. [astroquery.mast.core]\n"
     ]
    },
    {
     "name": "stdout",
     "output_type": "stream",
     "text": [
      "No eleanor postcard has been made for your target (yet). Using TessCut instead.\n"
     ]
    },
    {
     "name": "stderr",
     "output_type": "stream",
     "text": [
      "WARNING: NoResultsWarning: Query returned no results. [astroquery.mast.core]\n"
     ]
    },
    {
     "name": "stdout",
     "output_type": "stream",
     "text": [
      "No eleanor postcard has been made for your target (yet). Using TessCut instead.\n"
     ]
    },
    {
     "name": "stderr",
     "output_type": "stream",
     "text": [
      "WARNING: NoResultsWarning: Query returned no results. [astroquery.mast.core]\n"
     ]
    },
    {
     "name": "stdout",
     "output_type": "stream",
     "text": [
      "No eleanor postcard has been made for your target (yet). Using TessCut instead.\n"
     ]
    },
    {
     "name": "stderr",
     "output_type": "stream",
     "text": [
      "WARNING: NoResultsWarning: Query returned no results. [astroquery.mast.core]\n"
     ]
    },
    {
     "name": "stdout",
     "output_type": "stream",
     "text": [
      "No eleanor postcard has been made for your target (yet). Using TessCut instead.\n"
     ]
    },
    {
     "name": "stderr",
     "output_type": "stream",
     "text": [
      "WARNING: NoResultsWarning: Query returned no results. [astroquery.mast.core]\n"
     ]
    },
    {
     "name": "stdout",
     "output_type": "stream",
     "text": [
      "No eleanor postcard has been made for your target (yet). Using TessCut instead.\n"
     ]
    },
    {
     "name": "stderr",
     "output_type": "stream",
     "text": [
      "WARNING: NoResultsWarning: Query returned no results. [astroquery.mast.core]\n"
     ]
    },
    {
     "name": "stdout",
     "output_type": "stream",
     "text": [
      "No eleanor postcard has been made for your target (yet). Using TessCut instead.\n"
     ]
    },
    {
     "name": "stderr",
     "output_type": "stream",
     "text": [
      "WARNING: NoResultsWarning: Query returned no results. [astroquery.mast.core]\n"
     ]
    },
    {
     "name": "stdout",
     "output_type": "stream",
     "text": [
      "No eleanor postcard has been made for your target (yet). Using TessCut instead.\n"
     ]
    },
    {
     "name": "stderr",
     "output_type": "stream",
     "text": [
      "WARNING: NoResultsWarning: Query returned no results. [astroquery.mast.core]\n"
     ]
    },
    {
     "name": "stdout",
     "output_type": "stream",
     "text": [
      "No eleanor postcard has been made for your target (yet). Using TessCut instead.\n"
     ]
    },
    {
     "name": "stderr",
     "output_type": "stream",
     "text": [
      "WARNING: NoResultsWarning: Query returned no results. [astroquery.mast.core]\n"
     ]
    },
    {
     "name": "stdout",
     "output_type": "stream",
     "text": [
      "No eleanor postcard has been made for your target (yet). Using TessCut instead.\n",
      "Found star in Sector(s) 14 15 16 18 19 20 21 22 23 24 25 26\n"
     ]
    },
    {
     "name": "stderr",
     "output_type": "stream",
     "text": [
      "WARNING: NoResultsWarning: Query returned no results. [astroquery.mast.core]\n"
     ]
    },
    {
     "name": "stdout",
     "output_type": "stream",
     "text": [
      "No eleanor postcard has been made for your target (yet). Using TessCut instead.\n",
      "No eleanor postcard has been made for your target (yet). Using TessCut instead.\n",
      "No eleanor postcard has been made for your target (yet). Using TessCut instead.\n",
      "No eleanor postcard has been made for your target (yet). Using TessCut instead.\n",
      "No eleanor postcard has been made for your target (yet). Using TessCut instead.\n",
      "No eleanor postcard has been made for your target (yet). Using TessCut instead.\n",
      "No eleanor postcard has been made for your target (yet). Using TessCut instead.\n",
      "No eleanor postcard has been made for your target (yet). Using TessCut instead.\n",
      "No eleanor postcard has been made for your target (yet). Using TessCut instead.\n",
      "No eleanor postcard has been made for your target (yet). Using TessCut instead.\n",
      "No eleanor postcard has been made for your target (yet). Using TessCut instead.\n",
      "No eleanor postcard has been made for your target (yet). Using TessCut instead.\n",
      "No eleanor postcard has been made for your target (yet). Using TessCut instead.\n"
     ]
    },
    {
     "name": "stderr",
     "output_type": "stream",
     "text": [
      "WARNING: NoResultsWarning: Query returned no results. [astroquery.mast.core]\n"
     ]
    },
    {
     "name": "stdout",
     "output_type": "stream",
     "text": [
      "No eleanor postcard has been made for your target (yet). Using TessCut instead.\n"
     ]
    },
    {
     "name": "stderr",
     "output_type": "stream",
     "text": [
      "WARNING: NoResultsWarning: Query returned no results. [astroquery.mast.core]\n"
     ]
    },
    {
     "name": "stdout",
     "output_type": "stream",
     "text": [
      "No eleanor postcard has been made for your target (yet). Using TessCut instead.\n"
     ]
    },
    {
     "name": "stderr",
     "output_type": "stream",
     "text": [
      "WARNING: NoResultsWarning: Query returned no results. [astroquery.mast.core]\n"
     ]
    },
    {
     "name": "stdout",
     "output_type": "stream",
     "text": [
      "No eleanor postcard has been made for your target (yet). Using TessCut instead.\n"
     ]
    },
    {
     "name": "stderr",
     "output_type": "stream",
     "text": [
      "WARNING: NoResultsWarning: Query returned no results. [astroquery.mast.core]\n"
     ]
    },
    {
     "name": "stdout",
     "output_type": "stream",
     "text": [
      "No eleanor postcard has been made for your target (yet). Using TessCut instead.\n"
     ]
    },
    {
     "name": "stderr",
     "output_type": "stream",
     "text": [
      "WARNING: NoResultsWarning: Query returned no results. [astroquery.mast.core]\n"
     ]
    },
    {
     "name": "stdout",
     "output_type": "stream",
     "text": [
      "No eleanor postcard has been made for your target (yet). Using TessCut instead.\n"
     ]
    },
    {
     "name": "stderr",
     "output_type": "stream",
     "text": [
      "WARNING: NoResultsWarning: Query returned no results. [astroquery.mast.core]\n"
     ]
    },
    {
     "name": "stdout",
     "output_type": "stream",
     "text": [
      "No eleanor postcard has been made for your target (yet). Using TessCut instead.\n"
     ]
    },
    {
     "name": "stderr",
     "output_type": "stream",
     "text": [
      "WARNING: NoResultsWarning: Query returned no results. [astroquery.mast.core]\n"
     ]
    },
    {
     "name": "stdout",
     "output_type": "stream",
     "text": [
      "No eleanor postcard has been made for your target (yet). Using TessCut instead.\n"
     ]
    },
    {
     "name": "stderr",
     "output_type": "stream",
     "text": [
      "WARNING: NoResultsWarning: Query returned no results. [astroquery.mast.core]\n"
     ]
    },
    {
     "name": "stdout",
     "output_type": "stream",
     "text": [
      "No eleanor postcard has been made for your target (yet). Using TessCut instead.\n"
     ]
    },
    {
     "name": "stderr",
     "output_type": "stream",
     "text": [
      "WARNING: NoResultsWarning: Query returned no results. [astroquery.mast.core]\n"
     ]
    },
    {
     "name": "stdout",
     "output_type": "stream",
     "text": [
      "No eleanor postcard has been made for your target (yet). Using TessCut instead.\n"
     ]
    },
    {
     "name": "stderr",
     "output_type": "stream",
     "text": [
      "WARNING: NoResultsWarning: Query returned no results. [astroquery.mast.core]\n"
     ]
    },
    {
     "name": "stdout",
     "output_type": "stream",
     "text": [
      "No eleanor postcard has been made for your target (yet). Using TessCut instead.\n"
     ]
    },
    {
     "name": "stderr",
     "output_type": "stream",
     "text": [
      "WARNING: NoResultsWarning: Query returned no results. [astroquery.mast.core]\n"
     ]
    },
    {
     "name": "stdout",
     "output_type": "stream",
     "text": [
      "No eleanor postcard has been made for your target (yet). Using TessCut instead.\n",
      "Found star in Sector(s) 14 16 17 18 20 21 23 24 25 26\n"
     ]
    },
    {
     "name": "stderr",
     "output_type": "stream",
     "text": [
      "WARNING: NoResultsWarning: Query returned no results. [astroquery.mast.core]\n"
     ]
    },
    {
     "name": "stdout",
     "output_type": "stream",
     "text": [
      "No eleanor postcard has been made for your target (yet). Using TessCut instead.\n",
      "No eleanor postcard has been made for your target (yet). Using TessCut instead.\n",
      "No eleanor postcard has been made for your target (yet). Using TessCut instead.\n",
      "No eleanor postcard has been made for your target (yet). Using TessCut instead.\n",
      "No eleanor postcard has been made for your target (yet). Using TessCut instead.\n",
      "No eleanor postcard has been made for your target (yet). Using TessCut instead.\n",
      "No eleanor postcard has been made for your target (yet). Using TessCut instead.\n",
      "No eleanor postcard has been made for your target (yet). Using TessCut instead.\n",
      "No eleanor postcard has been made for your target (yet). Using TessCut instead.\n",
      "No eleanor postcard has been made for your target (yet). Using TessCut instead.\n",
      "No eleanor postcard has been made for your target (yet). Using TessCut instead.\n"
     ]
    },
    {
     "name": "stderr",
     "output_type": "stream",
     "text": [
      "WARNING: NoResultsWarning: Query returned no results. [astroquery.mast.core]\n"
     ]
    },
    {
     "name": "stdout",
     "output_type": "stream",
     "text": [
      "No eleanor postcard has been made for your target (yet). Using TessCut instead.\n"
     ]
    },
    {
     "name": "stderr",
     "output_type": "stream",
     "text": [
      "WARNING: NoResultsWarning: Query returned no results. [astroquery.mast.core]\n"
     ]
    },
    {
     "name": "stdout",
     "output_type": "stream",
     "text": [
      "No eleanor postcard has been made for your target (yet). Using TessCut instead.\n"
     ]
    },
    {
     "name": "stderr",
     "output_type": "stream",
     "text": [
      "WARNING: NoResultsWarning: Query returned no results. [astroquery.mast.core]\n"
     ]
    },
    {
     "name": "stdout",
     "output_type": "stream",
     "text": [
      "No eleanor postcard has been made for your target (yet). Using TessCut instead.\n"
     ]
    },
    {
     "name": "stderr",
     "output_type": "stream",
     "text": [
      "WARNING: NoResultsWarning: Query returned no results. [astroquery.mast.core]\n"
     ]
    },
    {
     "name": "stdout",
     "output_type": "stream",
     "text": [
      "No eleanor postcard has been made for your target (yet). Using TessCut instead.\n"
     ]
    },
    {
     "name": "stderr",
     "output_type": "stream",
     "text": [
      "WARNING: NoResultsWarning: Query returned no results. [astroquery.mast.core]\n"
     ]
    },
    {
     "name": "stdout",
     "output_type": "stream",
     "text": [
      "No eleanor postcard has been made for your target (yet). Using TessCut instead.\n"
     ]
    },
    {
     "name": "stderr",
     "output_type": "stream",
     "text": [
      "WARNING: NoResultsWarning: Query returned no results. [astroquery.mast.core]\n"
     ]
    },
    {
     "name": "stdout",
     "output_type": "stream",
     "text": [
      "No eleanor postcard has been made for your target (yet). Using TessCut instead.\n"
     ]
    },
    {
     "name": "stderr",
     "output_type": "stream",
     "text": [
      "WARNING: NoResultsWarning: Query returned no results. [astroquery.mast.core]\n"
     ]
    },
    {
     "name": "stdout",
     "output_type": "stream",
     "text": [
      "No eleanor postcard has been made for your target (yet). Using TessCut instead.\n"
     ]
    },
    {
     "name": "stderr",
     "output_type": "stream",
     "text": [
      "WARNING: NoResultsWarning: Query returned no results. [astroquery.mast.core]\n"
     ]
    },
    {
     "name": "stdout",
     "output_type": "stream",
     "text": [
      "No eleanor postcard has been made for your target (yet). Using TessCut instead.\n"
     ]
    },
    {
     "name": "stderr",
     "output_type": "stream",
     "text": [
      "WARNING: NoResultsWarning: Query returned no results. [astroquery.mast.core]\n"
     ]
    },
    {
     "name": "stdout",
     "output_type": "stream",
     "text": [
      "No eleanor postcard has been made for your target (yet). Using TessCut instead.\n"
     ]
    }
   ],
   "source": [
    "with open('flux_variation.csv', 'w', newline='') as csvfile:\n",
    "    spamwriter = csv.writer(csvfile, delimiter=',', dialect='excel')\n",
    "    spamwriter.writerow(['TIC', 'Sector', 'flux variation [percent]']) \n",
    "\n",
    "    for tic_number in full_list_of_JWST_standards:\n",
    "        if tic_number in two_minute:\n",
    "            lc_all = lk.search_lightcurve('TIC {}'.format(tic_number), author='SPOC', \n",
    "                                          exptime=120).download_all()\n",
    "            for lc in lc_all:\n",
    "                sector_number = lc.sector\n",
    "                a = tic_number\n",
    "                b = sector_number\n",
    "                c = michael.flux_variation(tic_number, sector_number)\n",
    "                spamwriter.writerow([a] + [b] + [c])\n",
    "        elif tic_number in thirty_minute:\n",
    "            lc_all = eleanor.multi_sectors(tic=tic_number, sectors='all')\n",
    "            for lc in lc_all:\n",
    "                sector_number = lc.sector\n",
    "                a = tic_number\n",
    "                b = sector_number\n",
    "                c = michael.flux_variation(tic_number, sector_number)\n",
    "                spamwriter.writerow([a] + [b] + [c])\n",
    "        else:\n",
    "            pass\n"
   ]
  },
  {
   "cell_type": "code",
   "execution_count": 14,
   "id": "58d1e202",
   "metadata": {},
   "outputs": [
    {
     "data": {
      "image/png": "[encoded data removed]",
      "text/plain": [
       "<Figure size 432x288 with 1 Axes>"
      ]
     },
     "metadata": {
      "needs_background": "light"
     },
     "output_type": "display_data"
    }
   ],
   "source": [
    "michael.plot_lightcurve(471015233, 25)"
   ]
  },
  {
   "cell_type": "code",
   "execution_count": null,
   "id": "7e42b7dc",
   "metadata": {},
   "outputs": [],
   "source": []
  }
 ],
 "metadata": {
  "kernelspec": {
   "display_name": "Python 3",
   "language": "python",
   "name": "python3"
  },
  "language_info": {
   "codemirror_mode": {
    "name": "ipython",
    "version": 3
   },
   "file_extension": ".py",
   "mimetype": "text/x-python",
   "name": "python",
   "nbconvert_exporter": "python",
   "pygments_lexer": "ipython3",
   "version": "3.7.3"
  }
 },
 "nbformat": 4,
 "nbformat_minor": 5
}
