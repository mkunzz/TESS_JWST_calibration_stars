{
 "cells": [
  {
   "cell_type": "code",
   "execution_count": 6,
   "id": "0838759d",
   "metadata": {},
   "outputs": [],
   "source": [
    "import michael"
   ]
  },
  {
   "cell_type": "code",
   "execution_count": 9,
   "id": "fb6a1417",
   "metadata": {},
   "outputs": [
    {
     "data": {
      "text/plain": [
       "[19]"
      ]
     },
     "execution_count": 9,
     "metadata": {},
     "output_type": "execute_result"
    }
   ],
   "source": [
    "michael.get_sectors(327587572)"
   ]
  },
  {
   "cell_type": "code",
   "execution_count": null,
   "id": "a08f22db",
   "metadata": {},
   "outputs": [],
   "source": []
  },
  {
   "cell_type": "code",
   "execution_count": null,
   "id": "e3c3de13",
   "metadata": {},
   "outputs": [],
   "source": []
  }
 ],
 "metadata": {
  "kernelspec": {
   "display_name": "Python 3",
   "language": "python",
   "name": "python3"
  },
  "language_info": {
   "codemirror_mode": {
    "name": "ipython",
    "version": 3
   },
   "file_extension": ".py",
   "mimetype": "text/x-python",
   "name": "python",
   "nbconvert_exporter": "python",
   "pygments_lexer": "ipython3",
   "version": "3.7.3"
  }
 },
 "nbformat": 4,
 "nbformat_minor": 5
}
